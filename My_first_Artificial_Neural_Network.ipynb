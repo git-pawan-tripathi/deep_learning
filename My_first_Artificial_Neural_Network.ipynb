{
  "nbformat": 4,
  "nbformat_minor": 0,
  "metadata": {
    "colab": {
      "name": "My first Artificial Neural Network",
      "provenance": [],
      "collapsed_sections": [],
      "toc_visible": true
    },
    "kernelspec": {
      "name": "python3",
      "display_name": "Python 3"
    }
  },
  "cells": [
    {
      "cell_type": "markdown",
      "metadata": {
        "id": "3cbb7fRy-eyr"
      },
      "source": [
        "# Artificial Neural Network"
      ]
    },
    {
      "cell_type": "markdown",
      "metadata": {
        "id": "8sNDnxE2-pwE"
      },
      "source": [
        "### Importing the libraries"
      ]
    },
    {
      "cell_type": "code",
      "metadata": {
        "id": "PDKG0QlwDGHf"
      },
      "source": [
        "import numpy as np\n",
        "import pandas as pd\n",
        "import tensorflow as tf"
      ],
      "execution_count": 25,
      "outputs": []
    },
    {
      "cell_type": "code",
      "metadata": {
        "colab": {
          "base_uri": "https://localhost:8080/",
          "height": 35
        },
        "id": "nbG7KIJUDII2",
        "outputId": "11ea19ab-bce4-49be-a78a-bf49e98a8025"
      },
      "source": [
        "tf.__version__"
      ],
      "execution_count": 26,
      "outputs": [
        {
          "output_type": "execute_result",
          "data": {
            "application/vnd.google.colaboratory.intrinsic+json": {
              "type": "string"
            },
            "text/plain": [
              "'2.4.0'"
            ]
          },
          "metadata": {
            "tags": []
          },
          "execution_count": 26
        }
      ]
    },
    {
      "cell_type": "markdown",
      "metadata": {
        "id": "AG3FQEch-yuA"
      },
      "source": [
        "## Part 1 - Data Preprocessing"
      ]
    },
    {
      "cell_type": "markdown",
      "metadata": {
        "id": "-4zq8Mza_D9O"
      },
      "source": [
        "### Importing the dataset"
      ]
    },
    {
      "cell_type": "code",
      "metadata": {
        "id": "wHJAGtPbDODN"
      },
      "source": [
        "dataset = pd.read_excel('myxl.xlsx')\n",
        "X = dataset.iloc[:, :-1].values\n",
        "y = dataset.iloc[:, -1].values"
      ],
      "execution_count": 27,
      "outputs": []
    },
    {
      "cell_type": "code",
      "metadata": {
        "colab": {
          "base_uri": "https://localhost:8080/"
        },
        "id": "vTLA2iNxGLhQ",
        "outputId": "0d3694e4-11b9-4175-cc05-72049656818c"
      },
      "source": [
        "X"
      ],
      "execution_count": 28,
      "outputs": [
        {
          "output_type": "execute_result",
          "data": {
            "text/plain": [
              "array([[  14.96,   41.76, 1024.07,   73.17],\n",
              "       [  25.18,   62.96, 1020.04,   59.08],\n",
              "       [   5.11,   39.4 , 1012.16,   92.14],\n",
              "       ...,\n",
              "       [  31.32,   74.33, 1012.92,   36.48],\n",
              "       [  24.48,   69.45, 1013.86,   62.39],\n",
              "       [  21.6 ,   62.52, 1017.23,   67.87]])"
            ]
          },
          "metadata": {
            "tags": []
          },
          "execution_count": 28
        }
      ]
    },
    {
      "cell_type": "code",
      "metadata": {
        "colab": {
          "base_uri": "https://localhost:8080/"
        },
        "id": "t13siutNGOMw",
        "outputId": "a7826860-8955-4904-d092-71a335d9a8b0"
      },
      "source": [
        "y"
      ],
      "execution_count": 29,
      "outputs": [
        {
          "output_type": "execute_result",
          "data": {
            "text/plain": [
              "array([463.26, 444.37, 488.56, ..., 429.57, 435.74, 453.28])"
            ]
          },
          "metadata": {
            "tags": []
          },
          "execution_count": 29
        }
      ]
    },
    {
      "cell_type": "markdown",
      "metadata": {
        "id": "VC6omXel_Up0"
      },
      "source": [
        "### Splitting the dataset into the Training set and Test set"
      ]
    },
    {
      "cell_type": "code",
      "metadata": {
        "id": "askQAucgDRQO"
      },
      "source": [
        "from sklearn.model_selection import train_test_split\n",
        "X_train, X_test, y_train, y_test = train_test_split(X, y, test_size = 0.2, random_state = 0)"
      ],
      "execution_count": 30,
      "outputs": []
    },
    {
      "cell_type": "markdown",
      "metadata": {
        "id": "7lfWl9dWHrUC"
      },
      "source": [
        "If you don't mention the random_state in the code, then whenever you execute your code a new random value is generated and the train and test datasets would have different values each time."
      ]
    },
    {
      "cell_type": "markdown",
      "metadata": {
        "id": "_mSLlAT9_eyI"
      },
      "source": [
        "## Part 2 - Building the ANN"
      ]
    },
    {
      "cell_type": "markdown",
      "metadata": {
        "id": "CsBULd_f_wLY"
      },
      "source": [
        "### Initializing the ANN"
      ]
    },
    {
      "cell_type": "code",
      "metadata": {
        "id": "UnYRKh7uHwif"
      },
      "source": [
        "ann=tf.keras.models.Sequential()\n"
      ],
      "execution_count": 31,
      "outputs": []
    },
    {
      "cell_type": "markdown",
      "metadata": {
        "id": "iitAFJS_ABUn"
      },
      "source": [
        "### Adding the input layer and the first hidden layer"
      ]
    },
    {
      "cell_type": "code",
      "metadata": {
        "id": "ykzRrl9GKIys"
      },
      "source": [
        "ann.add(tf.keras.layers.Dense(units=6,activation='relu'))"
      ],
      "execution_count": 32,
      "outputs": []
    },
    {
      "cell_type": "markdown",
      "metadata": {
        "id": "RbALxj58LKo6"
      },
      "source": [
        "1)Dense class create fully connected layers between input layers and first hidden layer\n",
        "2)units is no of newrons in first hidden layer"
      ]
    },
    {
      "cell_type": "markdown",
      "metadata": {
        "id": "-lb4kK_wAKbs"
      },
      "source": [
        "### Adding the second hidden layer"
      ]
    },
    {
      "cell_type": "code",
      "metadata": {
        "id": "OdNlhdQhMrud"
      },
      "source": [
        "ann.add(tf.keras.layers.Dense(units=6,activation='relu'))"
      ],
      "execution_count": 33,
      "outputs": []
    },
    {
      "cell_type": "markdown",
      "metadata": {
        "id": "jwMOmKb3AdBY"
      },
      "source": [
        "### Adding the output layer"
      ]
    },
    {
      "cell_type": "code",
      "metadata": {
        "id": "lHfm3Sm-Npdk"
      },
      "source": [
        "ann.add(tf.keras.layers.Dense(units=1))"
      ],
      "execution_count": 34,
      "outputs": []
    },
    {
      "cell_type": "markdown",
      "metadata": {
        "id": "JT-rkjVmOG-p"
      },
      "source": [
        "here we do regression problem so no need of activation  function .in classification problem we need to add activation function like sigmoid act fun for 2 class prediction and if your class is more than 2 that we use softmax act fun ."
      ]
    },
    {
      "cell_type": "markdown",
      "metadata": {
        "id": "fq7e4fF6A1yy"
      },
      "source": [
        "## Part 3 - Training the ANN"
      ]
    },
    {
      "cell_type": "markdown",
      "metadata": {
        "id": "qDeylAs2An25"
      },
      "source": [
        "### Compiling the ANN"
      ]
    },
    {
      "cell_type": "code",
      "metadata": {
        "id": "AHAJw395PY4d"
      },
      "source": [
        "ann.compile(optimizer='adam',loss='mean_squared_error')"
      ],
      "execution_count": 35,
      "outputs": []
    },
    {
      "cell_type": "markdown",
      "metadata": {
        "id": "qzPasx7HPZL8"
      },
      "source": [
        "1)optimizer is a tool for performing SGD.(here we use 'adam' optimizer).\n",
        "2)loss parater takes loss function which is 'mean_squared_error' here because it's a regression problem.\n"
      ]
    },
    {
      "cell_type": "markdown",
      "metadata": {
        "id": "YjVuiybYOo7r"
      },
      "source": [
        "### Training the ANN model on the Training set"
      ]
    },
    {
      "cell_type": "code",
      "metadata": {
        "colab": {
          "base_uri": "https://localhost:8080/"
        },
        "id": "zCj9sP23RwMZ",
        "outputId": "688e1cb7-76d6-4fa6-a05a-d2bc2c5bd014"
      },
      "source": [
        "ann.fit(x=X_train,y=y_train,batch_size=32,epochs=50)"
      ],
      "execution_count": 37,
      "outputs": [
        {
          "output_type": "stream",
          "text": [
            "Epoch 1/50\n",
            "240/240 [==============================] - 0s 990us/step - loss: 26.6134\n",
            "Epoch 2/50\n",
            "240/240 [==============================] - 0s 988us/step - loss: 27.0896\n",
            "Epoch 3/50\n",
            "240/240 [==============================] - 0s 910us/step - loss: 26.8160\n",
            "Epoch 4/50\n",
            "240/240 [==============================] - 0s 966us/step - loss: 26.9028\n",
            "Epoch 5/50\n",
            "240/240 [==============================] - 0s 924us/step - loss: 27.1377\n",
            "Epoch 6/50\n",
            "240/240 [==============================] - 0s 1ms/step - loss: 27.1455\n",
            "Epoch 7/50\n",
            "240/240 [==============================] - 0s 950us/step - loss: 26.4736\n",
            "Epoch 8/50\n",
            "240/240 [==============================] - 0s 989us/step - loss: 26.9549\n",
            "Epoch 9/50\n",
            "240/240 [==============================] - 0s 972us/step - loss: 26.6382\n",
            "Epoch 10/50\n",
            "240/240 [==============================] - 0s 934us/step - loss: 26.6875\n",
            "Epoch 11/50\n",
            "240/240 [==============================] - 0s 973us/step - loss: 27.5984\n",
            "Epoch 12/50\n",
            "240/240 [==============================] - 0s 1ms/step - loss: 28.0349\n",
            "Epoch 13/50\n",
            "240/240 [==============================] - 0s 1ms/step - loss: 26.5208\n",
            "Epoch 14/50\n",
            "240/240 [==============================] - 0s 975us/step - loss: 27.0207\n",
            "Epoch 15/50\n",
            "240/240 [==============================] - 0s 991us/step - loss: 27.8205\n",
            "Epoch 16/50\n",
            "240/240 [==============================] - 0s 986us/step - loss: 26.6917\n",
            "Epoch 17/50\n",
            "240/240 [==============================] - 0s 1ms/step - loss: 26.8909\n",
            "Epoch 18/50\n",
            "240/240 [==============================] - 0s 1ms/step - loss: 26.8714\n",
            "Epoch 19/50\n",
            "240/240 [==============================] - 0s 943us/step - loss: 26.6208\n",
            "Epoch 20/50\n",
            "240/240 [==============================] - 0s 1ms/step - loss: 26.7507\n",
            "Epoch 21/50\n",
            "240/240 [==============================] - 0s 1ms/step - loss: 26.8759\n",
            "Epoch 22/50\n",
            "240/240 [==============================] - 0s 982us/step - loss: 27.0542\n",
            "Epoch 23/50\n",
            "240/240 [==============================] - 0s 962us/step - loss: 26.6771\n",
            "Epoch 24/50\n",
            "240/240 [==============================] - 0s 991us/step - loss: 27.0258\n",
            "Epoch 25/50\n",
            "240/240 [==============================] - 0s 979us/step - loss: 26.6051\n",
            "Epoch 26/50\n",
            "240/240 [==============================] - 0s 988us/step - loss: 26.7591\n",
            "Epoch 27/50\n",
            "240/240 [==============================] - 0s 949us/step - loss: 26.5926\n",
            "Epoch 28/50\n",
            "240/240 [==============================] - 0s 1ms/step - loss: 27.1946\n",
            "Epoch 29/50\n",
            "240/240 [==============================] - 0s 1ms/step - loss: 26.7207\n",
            "Epoch 30/50\n",
            "240/240 [==============================] - 0s 1ms/step - loss: 26.9609\n",
            "Epoch 31/50\n",
            "240/240 [==============================] - 0s 1ms/step - loss: 26.7117\n",
            "Epoch 32/50\n",
            "240/240 [==============================] - 0s 981us/step - loss: 26.8997\n",
            "Epoch 33/50\n",
            "240/240 [==============================] - 0s 959us/step - loss: 27.0397\n",
            "Epoch 34/50\n",
            "240/240 [==============================] - 0s 1ms/step - loss: 27.3377\n",
            "Epoch 35/50\n",
            "240/240 [==============================] - 0s 1ms/step - loss: 27.3235\n",
            "Epoch 36/50\n",
            "240/240 [==============================] - 0s 1ms/step - loss: 26.9461\n",
            "Epoch 37/50\n",
            "240/240 [==============================] - 0s 1ms/step - loss: 27.3987\n",
            "Epoch 38/50\n",
            "240/240 [==============================] - 0s 1ms/step - loss: 27.1138\n",
            "Epoch 39/50\n",
            "240/240 [==============================] - 0s 973us/step - loss: 26.5409\n",
            "Epoch 40/50\n",
            "240/240 [==============================] - 0s 973us/step - loss: 27.3423\n",
            "Epoch 41/50\n",
            "240/240 [==============================] - 0s 992us/step - loss: 27.7974\n",
            "Epoch 42/50\n",
            "240/240 [==============================] - 0s 1ms/step - loss: 26.5487\n",
            "Epoch 43/50\n",
            "240/240 [==============================] - 0s 1ms/step - loss: 27.6700\n",
            "Epoch 44/50\n",
            "240/240 [==============================] - 0s 1ms/step - loss: 27.2192\n",
            "Epoch 45/50\n",
            "240/240 [==============================] - 0s 1ms/step - loss: 27.4616\n",
            "Epoch 46/50\n",
            "240/240 [==============================] - 0s 946us/step - loss: 26.9875\n",
            "Epoch 47/50\n",
            "240/240 [==============================] - 0s 960us/step - loss: 27.2832\n",
            "Epoch 48/50\n",
            "240/240 [==============================] - 0s 992us/step - loss: 26.9652\n",
            "Epoch 49/50\n",
            "240/240 [==============================] - 0s 997us/step - loss: 27.0573\n",
            "Epoch 50/50\n",
            "240/240 [==============================] - 0s 1ms/step - loss: 26.8248\n"
          ],
          "name": "stdout"
        },
        {
          "output_type": "execute_result",
          "data": {
            "text/plain": [
              "<tensorflow.python.keras.callbacks.History at 0x7f2a4db5d1d0>"
            ]
          },
          "metadata": {
            "tags": []
          },
          "execution_count": 37
        }
      ]
    },
    {
      "cell_type": "markdown",
      "metadata": {
        "id": "0H0zKKNEBLD5"
      },
      "source": [
        "### Predicting the results of the Test set"
      ]
    },
    {
      "cell_type": "code",
      "metadata": {
        "id": "o7j9n2diUf2C"
      },
      "source": [
        "y_pred=ann.predict(X_test)"
      ],
      "execution_count": 39,
      "outputs": []
    },
    {
      "cell_type": "markdown",
      "metadata": {
        "id": "xZ-Ir0orVLWG"
      },
      "source": [
        "**check model performance**"
      ]
    },
    {
      "cell_type": "code",
      "metadata": {
        "id": "KPsWam_rVB14"
      },
      "source": [
        "np.set_printoptions(precision=2)#to set 2 no after decimal"
      ],
      "execution_count": 40,
      "outputs": []
    },
    {
      "cell_type": "code",
      "metadata": {
        "colab": {
          "base_uri": "https://localhost:8080/"
        },
        "id": "InwRj2A-ViSq",
        "outputId": "65093cd0-9ec1-4a28-ff67-8d07a15ed761"
      },
      "source": [
        " a1=y_pred.reshape(len(y_pred),1)\n",
        " a2=y_test.reshape(len(y_test),1)\n",
        " np.concatenate((a1,a2),1)"
      ],
      "execution_count": 52,
      "outputs": [
        {
          "output_type": "execute_result",
          "data": {
            "text/plain": [
              "array([[431.31, 431.23],\n",
              "       [462.46, 460.01],\n",
              "       [465.98, 461.14],\n",
              "       ...,\n",
              "       [473.22, 473.26],\n",
              "       [439.92, 438.  ],\n",
              "       [459.19, 463.28]])"
            ]
          },
          "metadata": {
            "tags": []
          },
          "execution_count": 52
        }
      ]
    },
    {
      "cell_type": "markdown",
      "metadata": {
        "id": "ZF8fqlRUWKrZ"
      },
      "source": [
        "1.   numpy reshape to reshap in 1 column\n",
        "2.   in concatenate function pass arrays as a tuple (important) \n",
        "\n",
        "\n",
        "\n"
      ]
    },
    {
      "cell_type": "code",
      "metadata": {
        "colab": {
          "base_uri": "https://localhost:8080/"
        },
        "id": "kOrfdO7BV5Fy",
        "outputId": "d01e2f7b-4f07-421e-cf76-5a38de03919c"
      },
      "source": [
        "y_pred"
      ],
      "execution_count": 43,
      "outputs": [
        {
          "output_type": "execute_result",
          "data": {
            "text/plain": [
              "array([[431.31],\n",
              "       [462.46],\n",
              "       [465.98],\n",
              "       ...,\n",
              "       [473.22],\n",
              "       [439.92],\n",
              "       [459.19]], dtype=float32)"
            ]
          },
          "metadata": {
            "tags": []
          },
          "execution_count": 43
        }
      ]
    },
    {
      "cell_type": "code",
      "metadata": {
        "id": "CnM9JjtoWRAa"
      },
      "source": [
        ""
      ],
      "execution_count": null,
      "outputs": []
    }
  ]
}